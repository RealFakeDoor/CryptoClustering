# Import required libraries and dependencies
import pandas as pd
import hvplot.pandas
from sklearn.cluster import KMeans
from sklearn.decomposition import PCA
from sklearn.preprocessing import StandardScaler


# Load the data into a Pandas DataFrame
df_market_data = pd.read_csv(
    "Resources/crypto_market_data.csv",
    index_col="coin_id")

# Display sample data
df_market_data.head(10)


# Generate summary statistics
df_market_data.describe()


# Plot your data to see what's in your DataFrame
df_market_data.hvplot.line(
    width=800,
    height=400,
    rot=90
)








# Use the `StandardScaler()` module from scikit-learn to normalize the data from the CSV file
df_market_data_scaled = StandardScaler().fit_transform(df_market_data)


# Create a DataFrame with the scaled data
df_market_data_scaled = pd.DataFrame(df_market_data_scaled, columns=df_market_data.columns, index=df_market_data.index)

# Copy the crypto names from the original data
crypto_names = df_market_data.index

# Set the coin_id column as index
df_market_data_scaled.index = crypto_names

# Display sample data
df_market_data_scaled.head(10)








# Create a list with the number of k-values from 1 to 11
k_values = list(range(1, 12))


# Create an empty list to store the inertia values
inertia = []

# Create a for loop to compute the inertia with each possible value of k
for k in k_values:
    # 1. Create a KMeans model using the loop counter for the n_clusters
    kmeans = KMeans(n_clusters=k, random_state=1)
    # 2. Fit the model to the data using `df_market_data_scaled`
    kmeans.fit(df_market_data_scaled)
    # 3. Append the model.inertia_ to the inertia list
    inertia.append(kmeans.inertia_)


# Create a dictionary with the data to plot the Elbow curve
elbow_data = {"k": k_values, "inertia": inertia}

# Create a DataFrame with the data to plot the Elbow curve
df_elbow = pd.DataFrame(elbow_data)


# Plot a line chart with all the inertia values computed with 
# the different values of k to visually identify the optimal value for k.
df_elbow.hvplot.line(
    x='k',
    y='inertia',
    title='Elbow Curve',
    xticks=k_values
)












# Initialise the K-Means model using the best value for k
kmeans = KMeans(n_clusters=4, random_state=1)


# Fit the K-Means model using the scaled data
kmeans.fit(df_market_data_scaled)


# Predict the clusters to group the cryptocurrencies using the scaled data
clusters = kmeans.predict(df_market_data_scaled)

# Print the resulting array of cluster values.
print(clusters)


# Create a copy of the DataFrame
df_market_data_scaled_copy = df_market_data_scaled.copy()


# Add a new column to the DataFrame with the predicted clusters
df_market_data_scaled_copy['Cluster'] = clusters

# Display sample data
df_market_data_scaled_copy.head(10)


# Create a scatter plot using hvPlot by setting 
# `x="price_change_percentage_24h"` and `y="price_change_percentage_7d"`. 
# Colour the graph points with the labels found using K-Means and 
# add the crypto name in the `hover_cols` parameter to identify 
# the cryptocurrency represented by each data point.
df_market_data_scaled_copy.hvplot.scatter(
    x="price_change_percentage_24h",
    y="price_change_percentage_7d",
    by='Cluster',
    hover_cols=['coin_id'],
    title="Cryptocurrencies Scatter Plot"
)









# Create a PCA model instance and set `n_components=3`.
pca = PCA(n_components=3)


# Use the PCA model with `fit_transform` to reduce to 
# three principal components.
market_data_pca = pca.fit_transform(df_market_data_scaled)

# View the first five rows of the DataFrame.
pd.DataFrame(market_data_pca, columns=['PC1', 'PC2', 'PC3']).head()


# Retrieve the explained variance to determine how much information 
# can be attributed to each principal component.
pca.explained_variance_ratio_





# Create a new DataFrame with the PCA data.
df_market_data_pca = pd.DataFrame(market_data_pca, columns=['PC1', 'PC2', 'PC3'])


# Copy the crypto names from the original data
df_market_data_pca.index = crypto_names


# Display sample data
df_market_data_pca.head(10)









# Create a list with the number of k-values from 1 to 11
k_values = list(range(1, 12))


# Create an empty list to store the inertia values
inertia_pca = []

# Create a for loop to compute the inertia with each possible value of k
for k in k_values:
    # 1. Create a KMeans model using the loop counter for the n_clusters
    kmeans = KMeans(n_clusters=k, random_state=1)
    # 2. Fit the model to the data using `df_market_data_pca`
    kmeans.fit(df_market_data_pca)
    # 3. Append the model.inertia_ to the inertia list
    inertia_pca.append(kmeans.inertia_)



# Create a dictionary with the data to plot the Elbow curve
elbow_data_pca = {"k": k_values, "inertia": inertia_pca}

# Create a DataFrame with the data to plot the Elbow curve
df_elbow_pca = pd.DataFrame(elbow_data_pca)



# Plot a line chart with all the inertia values computed with 
# the different values of k to visually identify the optimal value for k.
df_elbow_pca.hvplot.line(
    x='k',
    y='inertia',
    title='Elbow Curve (PCA)',
    xticks=k_values
)








# Initialise the K-Means model using the best value for k
kmeans_pca = KMeans(n_clusters=4, random_state=1)


# Fit the K-Means model using the PCA data
kmeans_pca.fit(df_market_data_pca)


# Predict the clusters to group the cryptocurrencies using the PCA data
clusters_pca = kmeans_pca.predict(df_market_data_pca)

# Print the resulting array of cluster values.
print(clusters_pca)


# Create a copy of the DataFrame with the PCA data
df_market_data_pca_copy = df_market_data_pca.copy()

# Add a new column to the DataFrame with the predicted clusters
df_market_data_pca_copy['Cluster'] = clusters_pca

# Display sample data
df_market_data_pca_copy.head(10)


# Create a scatter plot using hvPlot by setting 
# `x="PC1"` and `y="PC2"`. 
# Colour the graph points with the labels found using K-Means and 
# add the crypto name in the `hover_cols` parameter to identify 
# the cryptocurrency represented by each data point.
df_market_data_pca_copy.hvplot.scatter(
    x="PC1",
    y="PC2",
    by='Cluster',
    hover_cols=['coin_id'],
    title="Cryptocurrencies Scatter Plot (PCA)"
)





# Composite plot to contrast the Elbow curves
elbow_curve_original = df_elbow.hvplot.line(
    x='k',
    y='inertia',
    title='Elbow Curve - Original vs PCA',
    xticks=k_values,
    label='Original Data'
)

elbow_curve_pca = df_elbow_pca.hvplot.line(
    x='k',
    y='inertia',
    color='red',
    label='PCA Data'
)

# Combine the two plots using the + operator
composite_elbow_curve = elbow_curve_original + elbow_curve_pca

# Display the composite plot
composite_elbow_curve


# Scatter plot for clusters from original data
clusters_original = df_market_data_scaled_copy.hvplot.scatter(
    x="price_change_percentage_24h",
    y="price_change_percentage_7d",
    by='Cluster',
    hover_cols=['coin_id'],
    title="Cryptocurrencies Scatter Plot (Original)",
    xlabel="24h Price Change (%)",
    ylabel="7d Price Change (%)"
)

# Scatter plot for clusters from PCA data
clusters_pca = df_market_data_pca_copy.hvplot.scatter(
    x="PC1",
    y="PC2",
    by='Cluster',
    hover_cols=['coin_id'],
    title="Cryptocurrencies Scatter Plot (PCA)",
    xlabel="Principal Component 1",
    ylabel="Principal Component 2"
)

# Combine the two plots using the + operator
composite_clusters_plot = clusters_original + clusters_pca

# Display the composite plot
composite_clusters_plot






